{
 "cells": [
  {
   "cell_type": "code",
   "execution_count": 11,
   "metadata": {},
   "outputs": [
    {
     "data": {
      "text/plain": [
       "name      C\n",
       "age      25\n",
       "grade     A\n",
       "dtype: object"
      ]
     },
     "execution_count": 11,
     "metadata": {},
     "output_type": "execute_result"
    }
   ],
   "source": [
    "import pandas as pd\n",
    "var=pd.DataFrame({\"name\": [\"a\",\"b\",\"C\",\"d\",\"a\",\"b\",\"c\",\"d\",\"b\"], \"age\": [25,26,27,28,29,30,31,32,33], \"grade\": [\"A\",\"B\",\"C\",\"D\",\"A\",\"B\",\"C\",\"D\",\"F\"]})\n",
    "var\n",
    "var.min()\n",
    "\n"
   ]
  },
  {
   "cell_type": "code",
   "execution_count": 2,
   "metadata": {},
   "outputs": [
    {
     "name": "stdout",
     "output_type": "stream",
     "text": [
      "<pandas.core.groupby.generic.DataFrameGroupBy object at 0x000002543FBF9010>\n"
     ]
    }
   ],
   "source": [
    "#gorupby in pamdas\n",
    "print(var.groupby(\"name\"))"
   ]
  },
  {
   "cell_type": "code",
   "execution_count": 4,
   "metadata": {},
   "outputs": [
    {
     "name": "stdout",
     "output_type": "stream",
     "text": [
      "C\n",
      "  name  age grade\n",
      "2    C   27     C\n",
      "a\n",
      "  name  age grade\n",
      "0    a   25     A\n",
      "4    a   29     A\n",
      "b\n",
      "  name  age grade\n",
      "1    b   26     B\n",
      "5    b   30     B\n",
      "8    b   33     F\n",
      "c\n",
      "  name  age grade\n",
      "6    c   31     C\n",
      "d\n",
      "  name  age grade\n",
      "3    d   28     D\n",
      "7    d   32     D\n"
     ]
    }
   ],
   "source": [
    "for x,y in var.groupby(\"name\"):\n",
    "    print(x)\n",
    "    print(y)"
   ]
  }
 ],
 "metadata": {
  "kernelspec": {
   "display_name": "Python 3",
   "language": "python",
   "name": "python3"
  },
  "language_info": {
   "codemirror_mode": {
    "name": "ipython",
    "version": 3
   },
   "file_extension": ".py",
   "mimetype": "text/x-python",
   "name": "python",
   "nbconvert_exporter": "python",
   "pygments_lexer": "ipython3",
   "version": "3.11.9"
  }
 },
 "nbformat": 4,
 "nbformat_minor": 2
}
