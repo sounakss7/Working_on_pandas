{
 "cells": [
  {
   "cell_type": "code",
   "execution_count": 6,
   "metadata": {},
   "outputs": [
    {
     "data": {
      "text/html": [
       "<div>\n",
       "<style scoped>\n",
       "    .dataframe tbody tr th:only-of-type {\n",
       "        vertical-align: middle;\n",
       "    }\n",
       "\n",
       "    .dataframe tbody tr th {\n",
       "        vertical-align: top;\n",
       "    }\n",
       "\n",
       "    .dataframe thead th {\n",
       "        text-align: right;\n",
       "    }\n",
       "</style>\n",
       "<table border=\"1\" class=\"dataframe\">\n",
       "  <thead>\n",
       "    <tr style=\"text-align: right;\">\n",
       "      <th></th>\n",
       "      <th>Series_reference</th>\n",
       "      <th>Period</th>\n",
       "      <th>Data_value</th>\n",
       "      <th>STATUS</th>\n",
       "      <th>UNITS</th>\n",
       "      <th>Subject</th>\n",
       "      <th>Group</th>\n",
       "      <th>Series_title_1</th>\n",
       "      <th>Series_title_2</th>\n",
       "    </tr>\n",
       "  </thead>\n",
       "  <tbody>\n",
       "    <tr>\n",
       "      <th>0</th>\n",
       "      <td>CPIQ.SE901</td>\n",
       "      <td>1914.06</td>\n",
       "      <td>13.167858</td>\n",
       "      <td>FINAL</td>\n",
       "      <td>Index</td>\n",
       "      <td>CPI</td>\n",
       "      <td>CPI Level 1 Groups for New Zealand</td>\n",
       "      <td>Food</td>\n",
       "      <td>NaN</td>\n",
       "    </tr>\n",
       "    <tr>\n",
       "      <th>1</th>\n",
       "      <td>CPIQ.SE901</td>\n",
       "      <td>1914.09</td>\n",
       "      <td>0.000000</td>\n",
       "      <td>FINAL</td>\n",
       "      <td>Index</td>\n",
       "      <td>CPI</td>\n",
       "      <td>CPI Level 1 Groups for New Zealand</td>\n",
       "      <td>Food</td>\n",
       "      <td>NaN</td>\n",
       "    </tr>\n",
       "  </tbody>\n",
       "</table>\n",
       "</div>"
      ],
      "text/plain": [
       "  Series_reference   Period  Data_value STATUS  UNITS Subject  \\\n",
       "0       CPIQ.SE901  1914.06   13.167858  FINAL  Index     CPI   \n",
       "1       CPIQ.SE901  1914.09    0.000000  FINAL  Index     CPI   \n",
       "\n",
       "                                Group Series_title_1  Series_title_2  \n",
       "0  CPI Level 1 Groups for New Zealand           Food             NaN  \n",
       "1  CPI Level 1 Groups for New Zealand           Food             NaN  "
      ]
     },
     "execution_count": 6,
     "metadata": {},
     "output_type": "execute_result"
    }
   ],
   "source": [
    "import pandas as pd\n",
    "csv_1=pd.read_csv(\"C:\\\\Users\\\\souna\\\\Downloads\\\\consumers-price-index-june-2024-quarter-index-numbers.csv\")\n",
    "csv_1[:2]\n",
    "\n"
   ]
  },
  {
   "cell_type": "code",
   "execution_count": 7,
   "metadata": {},
   "outputs": [
    {
     "name": "stdout",
     "output_type": "stream",
     "text": [
      "<class 'pandas.core.frame.DataFrame'>\n"
     ]
    },
    {
     "data": {
      "text/plain": [
       "<NumpyExtensionArray>\n",
       "[    np.int64(0),     np.int64(1),     np.int64(2),     np.int64(3),\n",
       "     np.int64(4),     np.int64(5),     np.int64(6),     np.int64(7),\n",
       "     np.int64(8),     np.int64(9),\n",
       " ...\n",
       " np.int64(21385), np.int64(21386), np.int64(21387), np.int64(21388),\n",
       " np.int64(21389), np.int64(21390), np.int64(21391), np.int64(21392),\n",
       " np.int64(21393), np.int64(21394)]\n",
       "Length: 21395, dtype: int64"
      ]
     },
     "execution_count": 7,
     "metadata": {},
     "output_type": "execute_result"
    }
   ],
   "source": [
    "print(type(csv_1))\n",
    "csv_1.index.array"
   ]
  },
  {
   "cell_type": "code",
   "execution_count": 8,
   "metadata": {},
   "outputs": [
    {
     "data": {
      "text/plain": [
       "<bound method DataFrame.to_numpy of       Series_reference   Period   Data_value STATUS  UNITS Subject  \\\n",
       "0           CPIQ.SE901  1914.06    13.167858  FINAL  Index     CPI   \n",
       "1           CPIQ.SE901  1914.09     0.000000  FINAL  Index     CPI   \n",
       "2           CPIQ.SE901  1914.12     0.000000  FINAL  Index     CPI   \n",
       "3           CPIQ.SE901  1915.03     0.000000  FINAL  Index     CPI   \n",
       "4           CPIQ.SE901  1915.06     0.000000  FINAL  Index     CPI   \n",
       "...                ...      ...          ...    ...    ...     ...   \n",
       "21390        CPIQ.SE9A  2023.06  1231.000000  FINAL  Index     CPI   \n",
       "21391        CPIQ.SE9A  2023.09  1253.000000  FINAL  Index     CPI   \n",
       "21392        CPIQ.SE9A  2023.12  1259.000000  FINAL  Index     CPI   \n",
       "21393        CPIQ.SE9A  2024.03  1267.000000  FINAL  Index     CPI   \n",
       "21394        CPIQ.SE9A  2024.06  1272.000000  FINAL  Index     CPI   \n",
       "\n",
       "                                    Group Series_title_1  Series_title_2  \n",
       "0      CPI Level 1 Groups for New Zealand           Food             NaN  \n",
       "1      CPI Level 1 Groups for New Zealand           Food             NaN  \n",
       "2      CPI Level 1 Groups for New Zealand           Food             NaN  \n",
       "3      CPI Level 1 Groups for New Zealand           Food             NaN  \n",
       "4      CPI Level 1 Groups for New Zealand           Food             NaN  \n",
       "...                                   ...            ...             ...  \n",
       "21390      CPI All Groups for New Zealand     All groups             NaN  \n",
       "21391      CPI All Groups for New Zealand     All groups             NaN  \n",
       "21392      CPI All Groups for New Zealand     All groups             NaN  \n",
       "21393      CPI All Groups for New Zealand     All groups             NaN  \n",
       "21394      CPI All Groups for New Zealand     All groups             NaN  \n",
       "\n",
       "[21395 rows x 9 columns]>"
      ]
     },
     "execution_count": 8,
     "metadata": {},
     "output_type": "execute_result"
    }
   ],
   "source": [
    "csv_1.to_numpy "
   ]
  }
 ],
 "metadata": {
  "kernelspec": {
   "display_name": "Python 3",
   "language": "python",
   "name": "python3"
  },
  "language_info": {
   "codemirror_mode": {
    "name": "ipython",
    "version": 3
   },
   "file_extension": ".py",
   "mimetype": "text/x-python",
   "name": "python",
   "nbconvert_exporter": "python",
   "pygments_lexer": "ipython3",
   "version": "3.11.9"
  }
 },
 "nbformat": 4,
 "nbformat_minor": 2
}
